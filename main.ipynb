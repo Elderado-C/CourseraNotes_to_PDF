{
 "cells": [
  {
   "cell_type": "code",
   "execution_count": 1,
   "metadata": {},
   "outputs": [
    {
     "name": "stdout",
     "output_type": "stream",
     "text": [
      "Requirement already satisfied: fpdf in c:\\users\\user\\anaconda3\\lib\\site-packages (1.7.2)\n"
     ]
    }
   ],
   "source": [
    "!pip install fpdf"
   ]
  },
  {
   "cell_type": "code",
   "execution_count": 2,
   "metadata": {},
   "outputs": [],
   "source": [
    "import os\n",
    "import urllib\n",
    "from fpdf import FPDF"
   ]
  },
  {
   "cell_type": "code",
   "execution_count": 3,
   "metadata": {},
   "outputs": [
    {
     "name": "stdout",
     "output_type": "stream",
     "text": [
      "Specify Path and Press Enter: C:\\Users\\User\\FYP AY2122 - Internal\\z. General\\Coursera Notes to PDF\\\n",
      "\n",
      "Reading source code...\n",
      "Downloading images...\n",
      "4 images downloaded\n",
      "Generating pdf...\n",
      "Deleting images...\n",
      "\n",
      "CourseraNotes.pdf file is created\n"
     ]
    }
   ],
   "source": [
    "##############################################################################\n",
    "SEARCH_KEY = 'https://s3.amazonaws.com/coursera-video-thumbnail-notes/web/'\n",
    "IMG_FILE_NAME_LENGTH = 22\n",
    "SAVE_PATH = input('Specify Path with \\ and Press Enter: ')\n",
    "##############################################################################\n",
    "\n",
    "while '\\\\' in SAVE_PATH:\n",
    "    SAVE_PATH = SAVE_PATH.replace('\\\\', '/')\n",
    "\n",
    "print()\n",
    "print('Reading source code...')\n",
    "fo = open(SAVE_PATH + '/source_code.txt', 'r', encoding='utf-8')\n",
    "source_code = fo.read()\n",
    "fo.close()\n",
    "\n",
    "imgs = []\n",
    "index = 0\n",
    "img_count = source_code.count(SEARCH_KEY)\n",
    "\n",
    "print('Downloading images...')\n",
    "for i in range(img_count):\n",
    "    index = source_code.index(SEARCH_KEY, index + 1)\n",
    "    start = index + len(SEARCH_KEY)\n",
    "    stop = start + IMG_FILE_NAME_LENGTH\n",
    "    file_name = source_code[start:stop]\n",
    "    file_url = SEARCH_KEY + file_name\n",
    "    urllib.request.urlretrieve(file_url, SAVE_PATH + file_name)\n",
    "    new_file_name = file_name + '.jpg'\n",
    "    os.rename(SAVE_PATH + file_name, SAVE_PATH + new_file_name)\n",
    "    imgs.append(SAVE_PATH + new_file_name)\n",
    "print('%i images downloaded' % img_count)\n",
    "\n",
    "print('Generating pdf...')\n",
    "pdf = FPDF()\n",
    "##############################################################################\n",
    "IMG_X = 5\n",
    "IMG_Y = 6\n",
    "IMG_WIDTH = 112     # total width is 210\n",
    "IMG_HEIGHT = 62  # total height is 297\n",
    "IMGS_PER_PAGE = 4\n",
    "IMG_GAP = 8\n",
    "##############################################################################\n",
    "i = 0\n",
    "while i < len(imgs):\n",
    "    pdf.add_page()\n",
    "    pdf.image(imgs[i], IMG_X, IMG_Y,IMG_WIDTH, IMG_HEIGHT)\n",
    "    i += 1\n",
    "    while (i % IMGS_PER_PAGE) and (i < len(imgs)) :\n",
    "        current_img_y = IMG_Y + (i % IMGS_PER_PAGE) * (IMG_HEIGHT + IMG_GAP)\n",
    "        pdf.image(imgs[i], IMG_X, current_img_y, IMG_WIDTH, IMG_HEIGHT)\n",
    "        i += 1\n",
    "    \n",
    "pdf.output(SAVE_PATH + '/CourseraNotes.pdf', 'F')\n",
    "\n",
    "print('Deleting images...')\n",
    "for img in imgs:\n",
    "    os.remove(img)\n",
    "print()\n",
    "print('CourseraNotes.pdf file is created')"
   ]
  },
  {
   "cell_type": "markdown",
   "metadata": {},
   "source": [
    "#### End of Code"
   ]
  }
 ],
 "metadata": {
  "kernelspec": {
   "display_name": "Python 3",
   "language": "python",
   "name": "python3"
  },
  "language_info": {
   "codemirror_mode": {
    "name": "ipython",
    "version": 3
   },
   "file_extension": ".py",
   "mimetype": "text/x-python",
   "name": "python",
   "nbconvert_exporter": "python",
   "pygments_lexer": "ipython3",
   "version": "3.8.5"
  }
 },
 "nbformat": 4,
 "nbformat_minor": 4
}
